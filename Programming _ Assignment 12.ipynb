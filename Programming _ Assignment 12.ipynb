{
 "cells": [
  {
   "cell_type": "markdown",
   "metadata": {},
   "source": [
    "Write a Python program to Extract Unique values dictionary values?"
   ]
  },
  {
   "cell_type": "code",
   "execution_count": 29,
   "metadata": {},
   "outputs": [
    {
     "data": {
      "text/plain": [
       "['Jai', 'sree Ram']"
      ]
     },
     "execution_count": 29,
     "metadata": {},
     "output_type": "execute_result"
    }
   ],
   "source": [
    "def unique(dict):\n",
    "    list = []\n",
    "    for i in dict.values():\n",
    "        if i not in list:\n",
    "            list.append(i)\n",
    "    return list\n",
    "unique({\"name\":\"Jai\",\"name \":\"sree Ram\",\"end\":\"Jai\"})"
   ]
  },
  {
   "cell_type": "markdown",
   "metadata": {},
   "source": [
    "Write a Python program to find the sum of all items in a dictionary?"
   ]
  },
  {
   "cell_type": "code",
   "execution_count": 38,
   "metadata": {},
   "outputs": [
    {
     "data": {
      "text/plain": [
       "('sum of Dictionary is ', 8)"
      ]
     },
     "execution_count": 38,
     "metadata": {},
     "output_type": "execute_result"
    }
   ],
   "source": [
    "def sum(dict):\n",
    "    sum = 0\n",
    "    for i in dict.values():\n",
    "        sum = sum + i\n",
    "    return \"sum of Dictionary is \",sum\n",
    "sum({\"1\":1,\"2\":3,\"3\":4})"
   ]
  },
  {
   "cell_type": "markdown",
   "metadata": {},
   "source": [
    "Write a Python program to Merging two Dictionaries?"
   ]
  },
  {
   "cell_type": "code",
   "execution_count": 46,
   "metadata": {},
   "outputs": [
    {
     "data": {
      "text/plain": [
       "{1: 1, 2: 2, 3: 3, 4: 4, 5: 5}"
      ]
     },
     "execution_count": 46,
     "metadata": {},
     "output_type": "execute_result"
    }
   ],
   "source": [
    "def merge(dict1,dict2):\n",
    "    merge = dict1\n",
    "    for i in dict2.items():\n",
    "        merge[i[0]]=i[1]\n",
    "    return merge\n",
    "merge({1:1,2:2,3:3},{4:4,5:5})    "
   ]
  },
  {
   "cell_type": "markdown",
   "metadata": {},
   "source": [
    "Write a Python program to convert key-values list to flat dictionary?"
   ]
  },
  {
   "cell_type": "code",
   "execution_count": 48,
   "metadata": {},
   "outputs": [
    {
     "data": {
      "text/plain": [
       "{'n1': 1, 'n2': 2, 'n3': 3}"
      ]
     },
     "execution_count": 48,
     "metadata": {},
     "output_type": "execute_result"
    }
   ],
   "source": [
    "def flat(key,values):\n",
    "    new_dict = {}\n",
    "    for i in range(len(key)):\n",
    "        new_dict[key[i]]=values[i]\n",
    "    return new_dict\n",
    "flat([\"n1\",\"n2\",\"n3\"],[1,2,3])\n",
    "    "
   ]
  },
  {
   "cell_type": "markdown",
   "metadata": {},
   "source": [
    "Write a Python program to insertion at the beginning in OrderedDict?"
   ]
  },
  {
   "cell_type": "code",
   "execution_count": 2,
   "metadata": {},
   "outputs": [
    {
     "data": {
      "text/plain": [
       "OrderedDict([('name', 'Jai sree ram'), ('n1', 1), ('n2', 3), ('n3', 4)])"
      ]
     },
     "execution_count": 2,
     "metadata": {},
     "output_type": "execute_result"
    }
   ],
   "source": [
    "from collections import OrderedDict\n",
    "  \n",
    "\n",
    "def insertion(d,a,c):\n",
    "    d.update({a:c})\n",
    "    d.move_to_end(a, last = False)\n",
    "    return d\n",
    "insertion(OrderedDict({\"n1\":1,\"n2\":3,\"n3\":4}),\"name\",\"Jai sree ram\")"
   ]
  },
  {
   "cell_type": "markdown",
   "metadata": {},
   "source": [
    "Write a Python program to check order of character in string using OrderedDict()?"
   ]
  },
  {
   "cell_type": "code",
   "execution_count": 11,
   "metadata": {},
   "outputs": [
    {
     "name": "stdout",
     "output_type": "stream",
     "text": [
      "True\n",
      "True\n"
     ]
    }
   ],
   "source": [
    "def order(a,n):\n",
    "    dict = OrderedDict.fromkeys(a) \n",
    "    i = 0\n",
    "    for key,values in dict.items(): \n",
    "        if (key == n[i]): \n",
    "             i += 1\n",
    "        if (i == (len(n))): \n",
    "            return True\n",
    "    return False\n",
    "print(order(\"Jai Sree Ram\",'Jai'))\n",
    "print(order(\"Jai Sree Ram\",'am'))\n",
    "\n"
   ]
  },
  {
   "cell_type": "markdown",
   "metadata": {},
   "source": [
    "Write a Python program to sort Python Dictionaries by Key or Value?"
   ]
  },
  {
   "cell_type": "code",
   "execution_count": 18,
   "metadata": {},
   "outputs": [
    {
     "data": {
      "text/plain": [
       "{'0c': -3, 'd1': 2, 'd2': 5, 'j8': 10, 'z': 2}"
      ]
     },
     "execution_count": 18,
     "metadata": {},
     "output_type": "execute_result"
    }
   ],
   "source": [
    "def sort_keys(dict):\n",
    "    dct={}\n",
    "    for i in sorted(dict) :\n",
    "        dct[i]=dict[i]\n",
    "    return dct   \n",
    "sort_keys({'d1': 2, 'd2': 5, 'j8': 10, '0c': -3, 'z': 2})"
   ]
  },
  {
   "cell_type": "code",
   "execution_count": 20,
   "metadata": {},
   "outputs": [
    {
     "data": {
      "text/plain": [
       "{'0c': -3, 'd1': 2, 'z': 2, 'd2': 5, 'j8': 10}"
      ]
     },
     "execution_count": 20,
     "metadata": {},
     "output_type": "execute_result"
    }
   ],
   "source": [
    "def sort_value(dict):\n",
    "    dt={}\n",
    "    temp=list(dict)\n",
    "    while len(temp)>0:\n",
    "        x=temp[0]\n",
    "        for j in temp:\n",
    "            if dict[x]>dict[j]:\n",
    "                x=j\n",
    "        dt[x]=dict[x]\n",
    "        temp.remove(x)\n",
    "    return dt   \n",
    "sort_value({'d1': 2, 'd2': 5, 'j8': 10, '0c': -3, 'z': 2})"
   ]
  },
  {
   "cell_type": "code",
   "execution_count": null,
   "metadata": {},
   "outputs": [],
   "source": []
  }
 ],
 "metadata": {
  "kernelspec": {
   "display_name": "Python 3",
   "language": "python",
   "name": "python3"
  },
  "language_info": {
   "codemirror_mode": {
    "name": "ipython",
    "version": 3
   },
   "file_extension": ".py",
   "mimetype": "text/x-python",
   "name": "python",
   "nbconvert_exporter": "python",
   "pygments_lexer": "ipython3",
   "version": "3.8.5"
  }
 },
 "nbformat": 4,
 "nbformat_minor": 4
}
