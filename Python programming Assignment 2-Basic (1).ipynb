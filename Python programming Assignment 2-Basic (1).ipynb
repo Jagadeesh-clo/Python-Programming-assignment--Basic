{
 "cells": [
  {
   "cell_type": "code",
   "execution_count": 2,
   "metadata": {},
   "outputs": [
    {
     "name": "stdout",
     "output_type": "stream",
     "text": [
      " Enter the no of Kiometers 4\n",
      " The 4.0  is equal to  2.485484\n"
     ]
    }
   ],
   "source": [
    "#1 Converting Kilomer to MIles\n",
    "\n",
    "KM = float(input(\" Enter the no of Kiometers \"))\n",
    "\n",
    "#Mile = 0.621371 KM\n",
    "\n",
    "Conversion = 0.621371\n",
    "\n",
    "Mile = KM *Conversion\n",
    "\n",
    "print( \" The {}  is equal to \".format(KM), Mile)\n",
    "\n",
    "\n"
   ]
  },
  {
   "cell_type": "code",
   "execution_count": 6,
   "metadata": {},
   "outputs": [
    {
     "name": "stdout",
     "output_type": "stream",
     "text": [
      " Enter the temporature in Celcius 34\n",
      " The temporature of 34.0  celcius is equal to  93.2\n"
     ]
    }
   ],
   "source": [
    "#2 Converting the Celcius to Fahrenheit\n",
    "\n",
    "Celcius = float(input(\" Enter the temporature in Celcius \"))\n",
    "\n",
    "Conv_Rate = 33.8 \n",
    "\n",
    "Fahrenheit = (Celcius *(9/5))+32 \n",
    "\n",
    "\n",
    "print(\" The temporature of {}  celcius is equal to \".format(Celcius),Fahrenheit)\n"
   ]
  },
  {
   "cell_type": "code",
   "execution_count": 52,
   "metadata": {},
   "outputs": [
    {
     "name": "stdout",
     "output_type": "stream",
     "text": [
      "Enter the Year 2021\n",
      " Enter the month 3\n",
      "     March 2021\n",
      "Mo Tu We Th Fr Sa Su\n",
      " 1  2  3  4  5  6  7\n",
      " 8  9 10 11 12 13 14\n",
      "15 16 17 18 19 20 21\n",
      "22 23 24 25 26 27 28\n",
      "29 30 31\n",
      "\n"
     ]
    }
   ],
   "source": [
    "#3 Print a calender\n",
    "import calendar\n",
    "\n",
    "Year = int(input(\"Enter the Year \"))\n",
    "Month = int(input(\" Enter the month \"))\n",
    "\n",
    "print(calendar.month(Year,Month))\n"
   ]
  },
  {
   "cell_type": "code",
   "execution_count": 11,
   "metadata": {},
   "outputs": [
    {
     "name": "stdout",
     "output_type": "stream",
     "text": [
      " Inter the A value 2\n",
      " Inter the B value 4\n",
      " Inter the C value 5\n",
      " The final complex value of X is  (-4-4.898979485566356j) (-4+4.898979485566356j)\n"
     ]
    }
   ],
   "source": [
    "# Quadratic Equation ax^2 + bx +c = 0\n",
    "import cmath\n",
    "\n",
    "a=float(input(\" Inter the A value \"))\n",
    "b=float(input(\" Inter the B value \"))\n",
    "c=float(input(\" Inter the C value \"))\n",
    "\n",
    "d=b**2-(4*a*c)\n",
    "\n",
    "\n",
    "#Finding the quodratic\n",
    "\n",
    "X1 = (-b-cmath.sqrt(d))/2*a\n",
    "X2 = (-b+cmath.sqrt(d))/2*a\n",
    "\n",
    "print (\" The final complex value of X is \",X1,X2)\n"
   ]
  },
  {
   "cell_type": "code",
   "execution_count": 63,
   "metadata": {},
   "outputs": [
    {
     "name": "stdout",
     "output_type": "stream",
     "text": [
      "Enter the value of X 10\n",
      "Enter the value of Y 20\n",
      "After Swapping X is 20.0 and Y is 10.0 \n"
     ]
    }
   ],
   "source": [
    "#5 Swappinng of Two Variables without Using temp variable\n",
    "\n",
    "X=float(input(\"Enter the value of X \"))\n",
    "Y=float(input(\"Enter the value of Y \"))\n",
    "\n",
    "X=X+Y\n",
    "Y=X-Y\n",
    "X=X-Y\n",
    "\n",
    "print(\"After Swapping X is {} and Y is {} \".format(X,Y))"
   ]
  }
 ],
 "metadata": {
  "kernelspec": {
   "display_name": "Python 3",
   "language": "python",
   "name": "python3"
  },
  "language_info": {
   "codemirror_mode": {
    "name": "ipython",
    "version": 3
   },
   "file_extension": ".py",
   "mimetype": "text/x-python",
   "name": "python",
   "nbconvert_exporter": "python",
   "pygments_lexer": "ipython3",
   "version": "3.8.5"
  }
 },
 "nbformat": 4,
 "nbformat_minor": 4
}
