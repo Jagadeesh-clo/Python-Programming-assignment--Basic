{
 "cells": [
  {
   "cell_type": "markdown",
   "metadata": {},
   "source": [
    "# 1 Fibonacci series using recursion"
   ]
  },
  {
   "cell_type": "code",
   "execution_count": 82,
   "metadata": {},
   "outputs": [
    {
     "name": "stdout",
     "output_type": "stream",
     "text": [
      "1\n",
      "1\n",
      "2\n",
      "3\n",
      "5\n"
     ]
    }
   ],
   "source": [
    "n=5\n",
    "def fib(n):\n",
    "        if n < 2:\n",
    "            return 1\n",
    "        \n",
    "        return fib(n-2) + fib(n-1)\n",
    "for i in range(5):\n",
    "        print(fib(i))\n",
    "\n"
   ]
  },
  {
   "cell_type": "markdown",
   "metadata": {},
   "source": [
    "# 2 Factorial of a number"
   ]
  },
  {
   "cell_type": "code",
   "execution_count": 99,
   "metadata": {},
   "outputs": [
    {
     "name": "stdout",
     "output_type": "stream",
     "text": [
      " enter the number 6\n",
      " The factorial of  6  is  720\n"
     ]
    }
   ],
   "source": [
    "def factorial(n):\n",
    "    \n",
    "    if n==0:\n",
    "        return 1\n",
    "    else:\n",
    "        \n",
    "        return n * factorial(n-1)\n",
    "\n",
    "n=int(input(\" enter the number \"))\n",
    "\n",
    "result = factorial(n)\n",
    "\n",
    "print(\" The factorial of \",n,\" is \",result)"
   ]
  },
  {
   "cell_type": "code",
   "execution_count": 2,
   "metadata": {},
   "outputs": [
    {
     "name": "stdout",
     "output_type": "stream",
     "text": [
      "enter the number 5\n",
      "Print False\n"
     ]
    }
   ],
   "source": [
    "n=int(input(\"enter the number \"))\n",
    "arm =0\n",
    "while(n>0):\n",
    "    rem= n%10\n",
    "    arm = arm + rem*rem*rem\n",
    "    n=n//10\n",
    "    \n",
    "if arm==n:\n",
    "    print(\"Print true\")\n",
    "else:\n",
    "    print(\"Print False\")\n",
    "    \n"
   ]
  },
  {
   "cell_type": "markdown",
   "metadata": {},
   "source": [
    "# 3 BOdy Mass Induction Calculator"
   ]
  },
  {
   "cell_type": "code",
   "execution_count": 113,
   "metadata": {},
   "outputs": [
    {
     "name": "stdout",
     "output_type": "stream",
     "text": [
      " Enter the weight of the person in KG 55\n",
      " Enter the height of the person in CM 171\n",
      " The BMI of weight 55  and height 171 is  18.80920625149619\n",
      " The person is Normal Weight \n",
      "\n"
     ]
    }
   ],
   "source": [
    "Weight = int (input(\" Enter the weight of the person in KG \"))\n",
    "Height = int (input(\" Enter the height of the person in CM \"))\n",
    "\n",
    "# BMI = Weight/[Height]^2\n",
    "\n",
    "BMI=Weight/(Height/100)**2\n",
    "\n",
    "print(\" The BMI of weight {}  and height {} is \".format(Weight, Height),BMI)\n",
    "\n",
    "if BMI <= 18.4:\n",
    "    print( \" The person is under weight \")\n",
    "    \n",
    "elif BMI <= 24.9:\n",
    "    print( \" The person is Normal Weight \")\n",
    "    \n",
    "elif BMI <= 29.9:\n",
    "    print(\" The person is over weight \")\n",
    "    \n",
    "else :\n",
    "    print(\" The person is having Obesity\")\n",
    "    \n",
    "print()\n"
   ]
  },
  {
   "cell_type": "code",
   "execution_count": 121,
   "metadata": {},
   "outputs": [
    {
     "name": "stdout",
     "output_type": "stream",
     "text": [
      " Enter the Natural NUmber 45677\n",
      "math.log ( 45677 ) is :  10.729350167917552\n"
     ]
    }
   ],
   "source": [
    "import math\n",
    "\n",
    "n = int(input(\" Enter the Natural NUmber \"))\n",
    "print (\"math.log ( {} ) is : \".format(n), math.log(n))\n"
   ]
  },
  {
   "cell_type": "markdown",
   "metadata": {},
   "source": [
    "# 5 Cube of Natural  numbers"
   ]
  },
  {
   "cell_type": "code",
   "execution_count": 134,
   "metadata": {},
   "outputs": [
    {
     "name": "stdout",
     "output_type": "stream",
     "text": [
      "The cube of 10 natural numbers are  3025\n"
     ]
    }
   ],
   "source": [
    "n=10\n",
    "pow = 3\n",
    "result =0\n",
    "for i in range(n+1):\n",
    "    if i==0:\n",
    "        pass\n",
    "    else:\n",
    "        result =result + i ** pow\n",
    "        \n",
    "print( \"The cube of {} natural numbers are \".format(n),result)        "
   ]
  },
  {
   "cell_type": "code",
   "execution_count": null,
   "metadata": {},
   "outputs": [],
   "source": []
  }
 ],
 "metadata": {
  "kernelspec": {
   "display_name": "Python 3",
   "language": "python",
   "name": "python3"
  },
  "language_info": {
   "codemirror_mode": {
    "name": "ipython",
    "version": 3
   },
   "file_extension": ".py",
   "mimetype": "text/x-python",
   "name": "python",
   "nbconvert_exporter": "python",
   "pygments_lexer": "ipython3",
   "version": "3.8.5"
  }
 },
 "nbformat": 4,
 "nbformat_minor": 4
}
