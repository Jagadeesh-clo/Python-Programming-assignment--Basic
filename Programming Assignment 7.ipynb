{
 "cells": [
  {
   "cell_type": "markdown",
   "metadata": {},
   "source": [
    "# 1. Write a Python Program to find sum of array?"
   ]
  },
  {
   "cell_type": "code",
   "execution_count": 1,
   "metadata": {},
   "outputs": [
    {
     "name": "stdout",
     "output_type": "stream",
     "text": [
      "Enter n value 5\n",
      "5\n",
      "6\n",
      "7\n",
      "8\n",
      "9\n",
      "The array elements are  [5, 6, 7, 8, 9]\n",
      "sum of array elements are  35\n"
     ]
    }
   ],
   "source": [
    "n = int(input (\"Enter n value \" ))\n",
    "l=[]\n",
    "sum = 0\n",
    "for i in range(n):\n",
    "    num = int(input())\n",
    "    l.append(num)\n",
    "    sum = sum +num\n",
    "    sum +=1\n",
    "print(\"The array elements are \",l)\n",
    "print(\"sum of array elements are \",sum-len(l))\n",
    "\n",
    "    "
   ]
  },
  {
   "cell_type": "markdown",
   "metadata": {},
   "source": [
    "# "
   ]
  },
  {
   "cell_type": "markdown",
   "metadata": {},
   "source": [
    "# 2. Write a Python Program to find largest element in an array?"
   ]
  },
  {
   "cell_type": "code",
   "execution_count": 4,
   "metadata": {},
   "outputs": [
    {
     "name": "stdout",
     "output_type": "stream",
     "text": [
      "Enter the size of the array 5\n",
      "1234\n",
      "23456\n",
      "1234567\n",
      "09876543\n",
      "234567890\n",
      "The Array elements are  [1234, 23456, 1234567, 9876543, 234567890]\n",
      "Largest element in the array is  234567890\n"
     ]
    }
   ],
   "source": [
    "n = int (input(\"Enter the size of the array \"))\n",
    "l=[]\n",
    "for i in range(n):\n",
    "    num =int(input())\n",
    "    l.append(num)\n",
    "print(\"The Array elements are \",l)\n",
    "print(\"Largest element in the array is \",max(l))    "
   ]
  },
  {
   "cell_type": "markdown",
   "metadata": {},
   "source": [
    "# 3. Write a Python Program for array rotation?"
   ]
  },
  {
   "cell_type": "code",
   "execution_count": 8,
   "metadata": {},
   "outputs": [
    {
     "name": "stdout",
     "output_type": "stream",
     "text": [
      "Enter the size of the array 5\n",
      "4\n",
      "3\n",
      "2\n",
      "1\n",
      "6\n",
      "Before rotating the array [4, 3, 2, 1, 6]\n",
      "After rotating the array elements are   [6, 1, 2, 3, 4]\n"
     ]
    }
   ],
   "source": [
    "n = int (input(\"Enter the size of the array \"))\n",
    "l=[]\n",
    "for i in range(n):\n",
    "    num =int(input())\n",
    "    l.append(num)\n",
    "print(\"Before rotating the array\",l)\n",
    "\n",
    "l1=l[::-1]\n",
    "\n",
    "print(\"After rotating the array elements are  \",l1)"
   ]
  },
  {
   "cell_type": "markdown",
   "metadata": {},
   "source": [
    "# 4. Write a Python Program to Split the array and add the first part to the end?"
   ]
  },
  {
   "cell_type": "code",
   "execution_count": 40,
   "metadata": {},
   "outputs": [
    {
     "name": "stdout",
     "output_type": "stream",
     "text": [
      "Enter the position to skip the elements 3\n",
      "\n",
      " The array elements are [6, 52, 36, 12, 10, 5]\n"
     ]
    }
   ],
   "source": [
    "def a_split(a, b, c): \n",
    "    b = a[:c]\n",
    "    return (a[c::]+c[::])\n",
    "n = len(arr)\n",
    "array = [12, 10, 5, 6, 52, 36]\n",
    "n = len(arr)\n",
    "position = int(input(\"Enter the position to skip the elements \"))\n",
    "arr = splitArr(array, n, position)\n",
    "for i in range(0, n): \n",
    "    arr[i]\n",
    "\n",
    "print(\"\\n The array elements are\",arr)\n"
   ]
  },
  {
   "cell_type": "markdown",
   "metadata": {},
   "source": [
    "# 5. Write a Python Program to check if given array is Monotonic?"
   ]
  },
  {
   "cell_type": "code",
   "execution_count": 133,
   "metadata": {},
   "outputs": [],
   "source": [
    "class Solution():\n",
    "    def isMonotonic(self, A):\n",
    "        increasing = decreasing = True\n",
    "\n",
    "        for i in range(len(A) - 1):\n",
    "            if A[i] > A[i+1]:\n",
    "                increasing = False\n",
    "            if A[i] < A[i+1]:\n",
    "                decreasing = False\n",
    "\n",
    "        return increasing or decreasing"
   ]
  },
  {
   "cell_type": "code",
   "execution_count": 136,
   "metadata": {},
   "outputs": [
    {
     "data": {
      "text/plain": [
       "False"
      ]
     },
     "execution_count": 136,
     "metadata": {},
     "output_type": "execute_result"
    }
   ],
   "source": [
    "A=[1,4,5,6,5,8]\n",
    "sol =Solution()\n",
    "sol.isMonotonic(A)"
   ]
  },
  {
   "cell_type": "code",
   "execution_count": null,
   "metadata": {},
   "outputs": [],
   "source": []
  },
  {
   "cell_type": "code",
   "execution_count": null,
   "metadata": {},
   "outputs": [],
   "source": []
  },
  {
   "cell_type": "code",
   "execution_count": null,
   "metadata": {},
   "outputs": [],
   "source": []
  }
 ],
 "metadata": {
  "kernelspec": {
   "display_name": "Python 3",
   "language": "python",
   "name": "python3"
  },
  "language_info": {
   "codemirror_mode": {
    "name": "ipython",
    "version": 3
   },
   "file_extension": ".py",
   "mimetype": "text/x-python",
   "name": "python",
   "nbconvert_exporter": "python",
   "pygments_lexer": "ipython3",
   "version": "3.8.5"
  }
 },
 "nbformat": 4,
 "nbformat_minor": 4
}
