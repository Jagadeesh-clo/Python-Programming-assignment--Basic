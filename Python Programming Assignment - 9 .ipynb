{
 "cells": [
  {
   "cell_type": "markdown",
   "metadata": {},
   "source": [
    "1. Write a Python program to check if the given number is a Disarium Number?\n"
   ]
  },
  {
   "cell_type": "code",
   "execution_count": 20,
   "metadata": {},
   "outputs": [
    {
     "name": "stdout",
     "output_type": "stream",
     "text": [
      "enter a number : 97\n",
      "Lenght of the number is 2\n",
      "not a Disarium Number\n"
     ]
    }
   ],
   "source": [
    "n=input(\"enter a number : \")\n",
    "l=len(n)\n",
    "print(\"Lenght of the number is\",l)\n",
    "num=t=int(n)\n",
    "s=0\n",
    "while t>0:\n",
    "    s+=(t%10)**l\n",
    "    #print(s)\n",
    "    l-=1\n",
    "    t=int(t/10)\n",
    "    #print(t)\n",
    "if s==num:\n",
    "    print(\"Disarium Number\")\n",
    "else:\n",
    "    print(\"not a Disarium Number\")"
   ]
  },
  {
   "cell_type": "markdown",
   "metadata": {},
   "source": [
    "2. Write a Python program to print all disarium numbers between 1 to 100?\n"
   ]
  },
  {
   "cell_type": "code",
   "execution_count": 26,
   "metadata": {},
   "outputs": [
    {
     "name": "stdout",
     "output_type": "stream",
     "text": [
      "The disarium numbers are  1\n",
      "The disarium numbers are  2\n",
      "The disarium numbers are  3\n",
      "The disarium numbers are  4\n",
      "The disarium numbers are  5\n",
      "The disarium numbers are  6\n",
      "The disarium numbers are  7\n",
      "The disarium numbers are  8\n",
      "The disarium numbers are  9\n",
      "The disarium numbers are  89\n"
     ]
    }
   ],
   "source": [
    "for n in range(1,101):\n",
    "    l=len(str(n))\n",
    "    t=n\n",
    "    s=0\n",
    "    while t>0:\n",
    "        s+=(t%10)**l\n",
    "        l-=1\n",
    "        t=int(t/10)\n",
    "    if s==n:\n",
    "        print(\"The disarium numbers are \",n,end=\"\\n\")\n",
    "    "
   ]
  },
  {
   "cell_type": "markdown",
   "metadata": {},
   "source": [
    "3. Write a Python program to check if the given number is Happy Number?\n"
   ]
  },
  {
   "cell_type": "code",
   "execution_count": 2,
   "metadata": {},
   "outputs": [
    {
     "name": "stdout",
     "output_type": "stream",
     "text": [
      "enter a number : 67\n",
      "not a happy Number\n"
     ]
    }
   ],
   "source": [
    "n=int(input(\"enter a number : \"))\n",
    "\n",
    "while True:\n",
    "    a=n\n",
    "    b=0\n",
    "    while b>0:\n",
    "        b+=(a%10)**2\n",
    "        #print(s)\n",
    "        a=int(a/10)\n",
    "    if len(str(b))==1:\n",
    "        if b==1:\n",
    "            print(\"Happy Number\")\n",
    "            break\n",
    "        else:\n",
    "            print(\"not a happy Number\")\n",
    "            break\n",
    "    else:\n",
    "        n=b"
   ]
  },
  {
   "cell_type": "markdown",
   "metadata": {},
   "source": [
    "4. Write a Python program to print all happy numbers between 1 and 100?\n"
   ]
  },
  {
   "cell_type": "code",
   "execution_count": 1,
   "metadata": {},
   "outputs": [
    {
     "name": "stdout",
     "output_type": "stream",
     "text": [
      "1 , 7 , 10 , 13 , 19 , 23 , 28 , 31 , 32 , 44 , 49 , 68 , 70 , 79 , 82 , 86 , 91 , 94 , 97 , 100 , "
     ]
    }
   ],
   "source": [
    "for num in range(1,101):\n",
    "    \n",
    "    t=num\n",
    "    while True:\n",
    "        \n",
    "        sum=0\n",
    "        while t>0:\n",
    "            sum+=(t%10)**2\n",
    "            t=int(t/10)\n",
    "        if len(str(sum))==1:\n",
    "            if sum==1:\n",
    "                print(num,\", \",end=\"\")\n",
    "                break\n",
    "            else:\n",
    "                break\n",
    "        else:\n",
    "            t=sum"
   ]
  },
  {
   "cell_type": "markdown",
   "metadata": {},
   "source": [
    "5. Write a Python program to determine whether the given number is a Harshad Number?\n"
   ]
  },
  {
   "cell_type": "code",
   "execution_count": 2,
   "metadata": {},
   "outputs": [
    {
     "name": "stdout",
     "output_type": "stream",
     "text": [
      "enter a number : 55\n",
      "Sum of the number is  10\n",
      "not a Harshad Number\n"
     ]
    }
   ],
   "source": [
    "num=int(input(\"enter a number : \"))\n",
    "t=num\n",
    "\n",
    "sum=0\n",
    "while t>0:\n",
    "    sum+=(t%10)\n",
    "    t=int(t/10)\n",
    "    #print(t)\n",
    "print(\"Sum of the number is \",sum)\n",
    "\n",
    "\n",
    "if num%sum==0:\n",
    "    print(\"Harshad Number\")\n",
    "else:\n",
    "    print(\"not a Harshad Number\")\n"
   ]
  },
  {
   "cell_type": "markdown",
   "metadata": {},
   "source": [
    "6. Write a Python program to print all pronic numbers between 1 and 100?"
   ]
  },
  {
   "cell_type": "code",
   "execution_count": 9,
   "metadata": {},
   "outputs": [
    {
     "name": "stdout",
     "output_type": "stream",
     "text": [
      "1 , 2 , 3 , 4 , 5 , 6 , 7 , 8 , 9 , 10 , 12 , 18 , 20 , 21 , 24 , 27 , 30 , 36 , 40 , 42 , 45 , 48 , 50 , 54 , 60 , 63 , 70 , 72 , 80 , 81 , 84 , 90 , 100 , "
     ]
    }
   ],
   "source": [
    "for n in range(1,101):\n",
    "    t=n\n",
    "\n",
    "    s=0\n",
    "    while t>0:\n",
    "        s+=(t%10)\n",
    "        t=int(t/10)\n",
    "\n",
    "    if n%s==0:\n",
    "         print(n,\", \",end=\"\")\n",
    "    "
   ]
  },
  {
   "cell_type": "code",
   "execution_count": null,
   "metadata": {},
   "outputs": [],
   "source": []
  }
 ],
 "metadata": {
  "kernelspec": {
   "display_name": "Python 3",
   "language": "python",
   "name": "python3"
  },
  "language_info": {
   "codemirror_mode": {
    "name": "ipython",
    "version": 3
   },
   "file_extension": ".py",
   "mimetype": "text/x-python",
   "name": "python",
   "nbconvert_exporter": "python",
   "pygments_lexer": "ipython3",
   "version": "3.8.5"
  }
 },
 "nbformat": 4,
 "nbformat_minor": 4
}
