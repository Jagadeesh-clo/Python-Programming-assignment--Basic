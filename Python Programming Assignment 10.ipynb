{
 "cells": [
  {
   "cell_type": "markdown",
   "metadata": {},
   "source": [
    "1.Write a Python program to find sum of elements in list?"
   ]
  },
  {
   "cell_type": "code",
   "execution_count": 7,
   "metadata": {},
   "outputs": [
    {
     "name": "stdout",
     "output_type": "stream",
     "text": [
      "List elemets are [0, 1, 2, 3, 4, 5, 6, 7, 8, 9]\n",
      "sum of the list is  45\n"
     ]
    }
   ],
   "source": [
    "l=[]\n",
    "for i in range(10):\n",
    "    l.append(i)\n",
    "print(\"List elemets are\",l)\n",
    "\n",
    "sum = 0\n",
    "for i in l:\n",
    "    sum = sum +i\n",
    "print(\"sum of the list is \",sum)"
   ]
  },
  {
   "cell_type": "markdown",
   "metadata": {},
   "source": [
    "2. Write a Python program to Multiply all numbers in the list?"
   ]
  },
  {
   "cell_type": "code",
   "execution_count": 15,
   "metadata": {},
   "outputs": [
    {
     "name": "stdout",
     "output_type": "stream",
     "text": [
      "List elemets are [1, 2, 3, 4, 5]\n",
      "multiplication of the list is  120\n"
     ]
    }
   ],
   "source": [
    "l=[]\n",
    "for i in range(1,6):\n",
    "    l.append(i)\n",
    "print(\"List elemets are\",l)\n",
    "\n",
    "mul = 1\n",
    "for i in l:\n",
    "    mul = mul *i\n",
    "    \n",
    "print(\"multiplication of the list is \",mul)"
   ]
  },
  {
   "cell_type": "markdown",
   "metadata": {},
   "source": [
    "3. Write a Python program to find smallest number in a list?"
   ]
  },
  {
   "cell_type": "code",
   "execution_count": 29,
   "metadata": {},
   "outputs": [
    {
     "data": {
      "text/plain": [
       "'Smallest number is -100'"
      ]
     },
     "execution_count": 29,
     "metadata": {},
     "output_type": "execute_result"
    }
   ],
   "source": [
    "def array(arr):\n",
    "    n=arr[0]\n",
    "    for i in arr:\n",
    "        if i<n:\n",
    "            n=i\n",
    "        \n",
    "    return \"Smallest number is {}\".format(n)\n",
    "array([12,14,65,7,-100])"
   ]
  },
  {
   "cell_type": "markdown",
   "metadata": {},
   "source": [
    "4. Write a Python program to find largest number in a list?"
   ]
  },
  {
   "cell_type": "code",
   "execution_count": 30,
   "metadata": {},
   "outputs": [
    {
     "data": {
      "text/plain": [
       "'largest number is 65'"
      ]
     },
     "execution_count": 30,
     "metadata": {},
     "output_type": "execute_result"
    }
   ],
   "source": [
    "def array(arr):\n",
    "    n=arr[0]\n",
    "    for i in arr:\n",
    "        if i>n:\n",
    "            n=i\n",
    "        \n",
    "    return \"largest number is {}\".format(n)\n",
    "array([12,14,65,7,-100])"
   ]
  },
  {
   "cell_type": "markdown",
   "metadata": {},
   "source": [
    "5.Write a Python program to find second largest number in a list?"
   ]
  },
  {
   "cell_type": "code",
   "execution_count": 36,
   "metadata": {},
   "outputs": [
    {
     "name": "stdout",
     "output_type": "stream",
     "text": [
      "[10, 20, 3, 4, 57, -80, 9]\n"
     ]
    },
    {
     "data": {
      "text/plain": [
       "67"
      ]
     },
     "execution_count": 36,
     "metadata": {},
     "output_type": "execute_result"
    }
   ],
   "source": [
    "def large(arr):\n",
    "    \n",
    "    for n in range(2):\n",
    "        l=arr[0]\n",
    "        for i in arr:\n",
    "            if i>l:\n",
    "                l=i\n",
    "        arr.remove(l)\n",
    "    print(arr)\n",
    "    return l\n",
    "large([10,20,3,4,57,67,70,-80,9])"
   ]
  },
  {
   "cell_type": "markdown",
   "metadata": {},
   "source": [
    "6. Write a Python program to find N largest elements from a list?"
   ]
  },
  {
   "cell_type": "code",
   "execution_count": 40,
   "metadata": {},
   "outputs": [
    {
     "data": {
      "text/plain": [
       "'4 Largest numbers in the list is [78, 76, 54, 6] '"
      ]
     },
     "execution_count": 40,
     "metadata": {},
     "output_type": "execute_result"
    }
   ],
   "source": [
    "def large(arr,N):\n",
    "    list = []\n",
    "    for n in range(N):\n",
    "        l = arr[0]\n",
    "        for i in arr:\n",
    "            if i>l:\n",
    "                l = i\n",
    "        arr.remove(l)\n",
    "        list.append(l)\n",
    "    \n",
    "    return \"{} Largest numbers in the list is {} \".format(N,list)\n",
    "large([1,2,3,4,5,76,54,6,78],4)"
   ]
  },
  {
   "cell_type": "markdown",
   "metadata": {},
   "source": [
    "7. Write a Python program to print even numbers in a list?"
   ]
  },
  {
   "cell_type": "code",
   "execution_count": 42,
   "metadata": {},
   "outputs": [
    {
     "name": "stdout",
     "output_type": "stream",
     "text": [
      "The Even numbers are  [2, 4, 6, 8, 0]\n"
     ]
    }
   ],
   "source": [
    "l = []\n",
    "def array(arr):\n",
    "    for i in arr:\n",
    "        if i%2 ==0:\n",
    "            l.append(i)\n",
    "    print(\"The Even numbers are \",l)\n",
    "array([1,2,3,4,5,6,7,8,9,0])"
   ]
  },
  {
   "cell_type": "markdown",
   "metadata": {},
   "source": [
    "8. Write a Python program to print odd numbers in a List?"
   ]
  },
  {
   "cell_type": "code",
   "execution_count": 43,
   "metadata": {},
   "outputs": [
    {
     "name": "stdout",
     "output_type": "stream",
     "text": [
      "The Even numbers are  [1, 3, 5, 7, 9]\n"
     ]
    }
   ],
   "source": [
    "l = []\n",
    "def array(arr):\n",
    "    for i in arr:\n",
    "        if i%2 !=0:\n",
    "            l.append(i)\n",
    "    print(\"The Even numbers are \",l)\n",
    "array([1,2,3,4,5,6,7,8,9,0])"
   ]
  },
  {
   "cell_type": "markdown",
   "metadata": {},
   "source": [
    "9.Write a Python program to Remove empty List from List?"
   ]
  },
  {
   "cell_type": "code",
   "execution_count": 3,
   "metadata": {},
   "outputs": [
    {
     "data": {
      "text/plain": [
       "[1, 3, 5, 'jaga', [1, 4, 5, 'Ram'], 6, 7.8, 3]"
      ]
     },
     "execution_count": 3,
     "metadata": {},
     "output_type": "execute_result"
    }
   ],
   "source": [
    "def rem(arr):\n",
    "    for i in arr:\n",
    "        if type(i)==list and len(i)==0:\n",
    "            arr.remove(i)\n",
    "    return arr\n",
    "#rem([[],[]])\n",
    "rem([1,3,5,\"jaga\",[1,4,5,\"Ram\"],[],6,7.8,[],3])"
   ]
  },
  {
   "cell_type": "code",
   "execution_count": 5,
   "metadata": {},
   "outputs": [
    {
     "name": "stdout",
     "output_type": "stream",
     "text": [
      "original list ['a', 1, 2, 5, 7, 889, 6, 67, 'Ram']\n",
      "COPY list ['a', 1, 'sri Ram', 5, 7, 889, 6, 67, 'Ram']\n"
     ]
    }
   ],
   "source": [
    "arr=[\"a\",1,2,5,7,889,6,67,\"Ram\"]\n",
    "arr1=arr.copy()\n",
    "arr1[2]=\"sri Ram\"\n",
    "print(\"original list\",arr)\n",
    "print(\"COPY list\",arr1)"
   ]
  },
  {
   "cell_type": "markdown",
   "metadata": {},
   "source": [
    "11. Write a Python program to Count occurrences of an element in a list?"
   ]
  },
  {
   "cell_type": "code",
   "execution_count": 12,
   "metadata": {},
   "outputs": [
    {
     "name": "stdout",
     "output_type": "stream",
     "text": [
      "No of occurances of 1 is 5 \n"
     ]
    }
   ],
   "source": [
    "count = 0\n",
    "n = 1\n",
    "arr = [1,2,3,1,2,1,1,1,6]\n",
    "for i  in arr:\n",
    "    if i==n:\n",
    "        count = count + 1\n",
    "print(\"No of occurances of {} is {} \".format(n,count))"
   ]
  },
  {
   "cell_type": "code",
   "execution_count": null,
   "metadata": {},
   "outputs": [],
   "source": []
  },
  {
   "cell_type": "code",
   "execution_count": null,
   "metadata": {},
   "outputs": [],
   "source": []
  }
 ],
 "metadata": {
  "kernelspec": {
   "display_name": "Python 3",
   "language": "python",
   "name": "python3"
  },
  "language_info": {
   "codemirror_mode": {
    "name": "ipython",
    "version": 3
   },
   "file_extension": ".py",
   "mimetype": "text/x-python",
   "name": "python",
   "nbconvert_exporter": "python",
   "pygments_lexer": "ipython3",
   "version": "3.8.5"
  }
 },
 "nbformat": 4,
 "nbformat_minor": 4
}
