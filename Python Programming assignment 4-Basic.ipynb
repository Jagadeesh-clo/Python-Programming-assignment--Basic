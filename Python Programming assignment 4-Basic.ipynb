{
 "cells": [
  {
   "cell_type": "markdown",
   "metadata": {},
   "source": [
    "# 1 Factorial Number"
   ]
  },
  {
   "cell_type": "code",
   "execution_count": 35,
   "metadata": {},
   "outputs": [
    {
     "name": "stdout",
     "output_type": "stream",
     "text": [
      "Enter the integer 5\n",
      "The Factorial of 5 is 120\n"
     ]
    }
   ],
   "source": [
    "Num = int (input(\"Enter the integer \") )\n",
    "\n",
    "Factorial =1\n",
    "for i in range(1, Num+1):\n",
    "    Factorial=Factorial*i\n",
    "print(\"The Factorial of {} is\".format(Num),Factorial)\n",
    "    "
   ]
  },
  {
   "cell_type": "markdown",
   "metadata": {},
   "source": [
    "# 2 Display the Multiplication Table"
   ]
  },
  {
   "cell_type": "code",
   "execution_count": 54,
   "metadata": {},
   "outputs": [
    {
     "name": "stdout",
     "output_type": "stream",
     "text": [
      " Enter the Table Number 6\n",
      "6 * 1 = 6\n",
      "6 * 2 = 12\n",
      "6 * 3 = 18\n",
      "6 * 4 = 24\n",
      "6 * 5 = 30\n",
      "6 * 6 = 36\n",
      "6 * 7 = 42\n",
      "6 * 8 = 48\n",
      "6 * 9 = 54\n",
      "6 * 10 = 60\n"
     ]
    }
   ],
   "source": [
    "n= int(input(\" Enter the Table Number \"))\n",
    "\n",
    "for i in range(1,11):\n",
    "    print(n,\"*\",i,\"=\",n*i)"
   ]
  },
  {
   "cell_type": "markdown",
   "metadata": {},
   "source": [
    "# 3 Fibonacci Series"
   ]
  },
  {
   "cell_type": "code",
   "execution_count": 21,
   "metadata": {},
   "outputs": [
    {
     "name": "stdout",
     "output_type": "stream",
     "text": [
      " Enter the N Value 5\n",
      "1\n",
      "1\n",
      "2\n",
      "3\n",
      "5\n",
      "\n"
     ]
    }
   ],
   "source": [
    "n= int (input(\" Enter the N Value \"))\n",
    "a=1\n",
    "b=1\n",
    "for i in range(n):\n",
    "    print(a)\n",
    "    a,b=b,a+b\n",
    "print()"
   ]
  },
  {
   "cell_type": "markdown",
   "metadata": {},
   "source": [
    "# 4 Arm strong Number:"
   ]
  },
  {
   "cell_type": "code",
   "execution_count": 26,
   "metadata": {},
   "outputs": [
    {
     "name": "stdout",
     "output_type": "stream",
     "text": [
      " Enter the armstrong Number157\n",
      " This is Armstring number\n"
     ]
    }
   ],
   "source": [
    "Num = int(input(\" Enter the armstrong Number\"))\n",
    "sum=0\n",
    "temp=Num\n",
    "while temp > 0:\n",
    "    digit = temp % 10\n",
    "    sum+=digit**3\n",
    "    temp//=10\n",
    "if sum == Num:\n",
    "    print(\" This is Armstring number\")\n",
    "else:\n",
    "    print(\" This is Armstring number\")\n"
   ]
  },
  {
   "cell_type": "markdown",
   "metadata": {},
   "source": [
    "# 5 finging a Armstrong number in an interval"
   ]
  },
  {
   "cell_type": "code",
   "execution_count": 53,
   "metadata": {},
   "outputs": [
    {
     "name": "stdout",
     "output_type": "stream",
     "text": [
      "370\n",
      "371\n",
      "407\n"
     ]
    }
   ],
   "source": [
    "for num in range(350,1000):\n",
    "    temp=num\n",
    "    sum=0\n",
    "    while temp>0:\n",
    "        digit=temp%10\n",
    "        sum=sum+digit**3\n",
    "        temp=temp//10\n",
    "    if sum==num:\n",
    "        print (num)\n"
   ]
  },
  {
   "cell_type": "markdown",
   "metadata": {},
   "source": [
    "# 6. SUM of Natural Numbers"
   ]
  },
  {
   "cell_type": "code",
   "execution_count": 81,
   "metadata": {},
   "outputs": [
    {
     "name": "stdout",
     "output_type": "stream",
     "text": [
      " Enter the Natural Number 10\n",
      "The sum of 10 natural numbers is 55\n"
     ]
    }
   ],
   "source": [
    "Nat_Num = int(input(\" Enter the Natural Number \"))\n",
    "sum=0\n",
    "for i in range(Nat_Num+1):\n",
    "    if i==0:\n",
    "        continue\n",
    "    else:\n",
    "        sum =sum+i\n",
    "print(\"The sum of {} natural numbers is\".format(Nat_Num),sum)\n",
    "    \n",
    "        \n",
    "        "
   ]
  }
 ],
 "metadata": {
  "kernelspec": {
   "display_name": "Python 3",
   "language": "python",
   "name": "python3"
  },
  "language_info": {
   "codemirror_mode": {
    "name": "ipython",
    "version": 3
   },
   "file_extension": ".py",
   "mimetype": "text/x-python",
   "name": "python",
   "nbconvert_exporter": "python",
   "pygments_lexer": "ipython3",
   "version": "3.8.5"
  }
 },
 "nbformat": 4,
 "nbformat_minor": 4
}
