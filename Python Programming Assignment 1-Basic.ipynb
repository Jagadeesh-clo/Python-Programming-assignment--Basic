{
 "cells": [
  {
   "cell_type": "markdown",
   "metadata": {},
   "source": [
    "#1 Print Hello Python "
   ]
  },
  {
   "cell_type": "code",
   "execution_count": 4,
   "metadata": {},
   "outputs": [
    {
     "name": "stdout",
     "output_type": "stream",
     "text": [
      "Hello Python\n"
     ]
    }
   ],
   "source": [
    "print(\"Hello Python\")"
   ]
  },
  {
   "cell_type": "markdown",
   "metadata": {},
   "source": [
    "#2 Arithmetical Operations"
   ]
  },
  {
   "cell_type": "code",
   "execution_count": 9,
   "metadata": {},
   "outputs": [
    {
     "name": "stdout",
     "output_type": "stream",
     "text": [
      "Enter an interger A 10\n",
      "Enter an interger B 20\n",
      " The addition of 10 and 20 is   30\n",
      " The subtraction of 10 and 20 is   -10\n",
      " The Multiplication of 10 and 20 is   200\n",
      " The Division of 10 and 20 is   0.5\n"
     ]
    }
   ],
   "source": [
    "A=int(input(\"Enter an interger A \"))\n",
    "B=int(input(\"Enter an interger B \"))\n",
    "\n",
    "#Addition of Two Numbers \n",
    "Add = A+B\n",
    "print(\" The addition of {} and {} is  \".format(A,B),Add)\n",
    "\n",
    "#Subtraction of Two Numbers \n",
    "Sub = A-B\n",
    "print(\" The subtraction of {} and {} is  \".format(A,B),Sub)\n",
    "\n",
    "#Multiplication of Two Numbers\n",
    "\n",
    "Multiply = A*B\n",
    "print(\" The Multiplication of {} and {} is  \".format(A,B),Multiply)\n",
    "\n",
    "#Division of Two numbers\n",
    "\n",
    "Division = A/B\n",
    "print(\" The Division of {} and {} is  \".format(A,B),Division)\n"
   ]
  },
  {
   "cell_type": "code",
   "execution_count": 12,
   "metadata": {},
   "outputs": [
    {
     "name": "stdout",
     "output_type": "stream",
     "text": [
      " Enter the Base value of a Triangle 10\n",
      " Enter the Height of the triangle 20\n",
      "Area of Triangle is  100.0\n"
     ]
    }
   ],
   "source": [
    "#3 Area of Triangle 1/2 BH\n",
    "\n",
    "Base = float(input(\" Enter the Base value of a Triangle \"))\n",
    "Height = float(input(\" Enter the Height of the triangle \"))\n",
    "\n",
    "#Area of triangle\n",
    "\n",
    "Area = ( Base * Height)/2\n",
    "print(\"Area of Triangle is \",Area)\n"
   ]
  },
  {
   "cell_type": "code",
   "execution_count": 3,
   "metadata": {},
   "outputs": [
    {
     "name": "stdout",
     "output_type": "stream",
     "text": [
      " Enter the inter A 4\n",
      "Enter the integer B 5\n",
      "The value of a  5\n",
      "The value of b  4\n"
     ]
    }
   ],
   "source": [
    "#4 Swapping of Two numbers\n",
    "\n",
    "a= int(input(\" Enter the inter A \"))\n",
    "b= int(input(\"Enter the integer B \"))\n",
    "\n",
    "c=a\n",
    "a=b\n",
    "b=c\n",
    "print(\"The value of a \",a )\n",
    "print(\"The value of b \",b)\n"
   ]
  },
  {
   "cell_type": "code",
   "execution_count": 12,
   "metadata": {},
   "outputs": [
    {
     "name": "stdout",
     "output_type": "stream",
     "text": [
      "2\n",
      "2\n",
      "10\n",
      "8\n",
      "1\n"
     ]
    }
   ],
   "source": [
    "#5 Printing a random variable\n",
    "import random\n",
    "\n",
    "for i in range(5):\n",
    "    print(random.randint(1,10))\n"
   ]
  },
  {
   "cell_type": "code",
   "execution_count": null,
   "metadata": {},
   "outputs": [],
   "source": []
  },
  {
   "cell_type": "code",
   "execution_count": null,
   "metadata": {},
   "outputs": [],
   "source": []
  }
 ],
 "metadata": {
  "kernelspec": {
   "display_name": "Python 3",
   "language": "python",
   "name": "python3"
  },
  "language_info": {
   "codemirror_mode": {
    "name": "ipython",
    "version": 3
   },
   "file_extension": ".py",
   "mimetype": "text/x-python",
   "name": "python",
   "nbconvert_exporter": "python",
   "pygments_lexer": "ipython3",
   "version": "3.8.5"
  }
 },
 "nbformat": 4,
 "nbformat_minor": 4
}
