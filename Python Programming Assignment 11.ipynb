{
 "cells": [
  {
   "cell_type": "markdown",
   "metadata": {},
   "source": [
    "1. Write a Python program to find words which are greater than given length k?"
   ]
  },
  {
   "cell_type": "code",
   "execution_count": 12,
   "metadata": {},
   "outputs": [
    {
     "name": "stdout",
     "output_type": "stream",
     "text": [
      "['enrolled', 'Datascience', 'Ineuron']\n"
     ]
    }
   ],
   "source": [
    "k= 5\n",
    "string = \"I have enrolled for Datascience in Ineuron\"\n",
    "\n",
    "l=[]\n",
    "\n",
    "for i in string.split():\n",
    "    #print(i)\n",
    "    if len(i)>k:\n",
    "        l.append(i)\n",
    "print(l)"
   ]
  },
  {
   "cell_type": "markdown",
   "metadata": {},
   "source": [
    "2. Write a Python program for removing i-th character from a string?"
   ]
  },
  {
   "cell_type": "code",
   "execution_count": 18,
   "metadata": {},
   "outputs": [
    {
     "data": {
      "text/plain": [
       "'Jai ree Ram'"
      ]
     },
     "execution_count": 18,
     "metadata": {},
     "output_type": "execute_result"
    }
   ],
   "source": [
    "def rem(str,k):\n",
    "    return str[0:k-1]+str[k:]\n",
    "\n",
    "rem(\"Jai Sree Ram\",5)"
   ]
  },
  {
   "cell_type": "markdown",
   "metadata": {},
   "source": [
    "3. Write a Python program to split and join a string?"
   ]
  },
  {
   "cell_type": "code",
   "execution_count": 22,
   "metadata": {},
   "outputs": [
    {
     "data": {
      "text/plain": [
       "[' I am the stude', 't of I', 'euro', ' ']"
      ]
     },
     "execution_count": 22,
     "metadata": {},
     "output_type": "execute_result"
    }
   ],
   "source": [
    "def split(str,k):\n",
    "    return str.split(k)\n",
    "split(\" I am the student of Ineuron \",\"n\")\n",
    "\n"
   ]
  },
  {
   "cell_type": "code",
   "execution_count": 23,
   "metadata": {},
   "outputs": [
    {
     "data": {
      "text/plain": [
       "'I am Jagadeesh  from Bangalore'"
      ]
     },
     "execution_count": 23,
     "metadata": {},
     "output_type": "execute_result"
    }
   ],
   "source": [
    "def join(str1,str2):\n",
    "    return str1 + str2\n",
    "join(\"I am Jagadeesh \",\" from Bangalore\")"
   ]
  },
  {
   "cell_type": "markdown",
   "metadata": {},
   "source": [
    "4. Write a Python to check if a given string is binary string or not?"
   ]
  },
  {
   "cell_type": "code",
   "execution_count": 24,
   "metadata": {},
   "outputs": [
    {
     "name": "stdout",
     "output_type": "stream",
     "text": [
      "This is not a binary string\n",
      "binary string\n"
     ]
    }
   ],
   "source": [
    "def binary(st):\n",
    "    l=[\"0\",\"1\"]\n",
    "    for i in st:\n",
    "        if i not in l:\n",
    "            print(\"This is not a binary string\")\n",
    "            break\n",
    "    else:\n",
    "        print(\"binary string\")\n",
    "binary(\"This is a program execution for Binary string\")\n",
    "binary(\"01010\")"
   ]
  },
  {
   "cell_type": "markdown",
   "metadata": {},
   "source": [
    "5. Write a Python program to find uncommon words from two Strings?"
   ]
  },
  {
   "cell_type": "code",
   "execution_count": 26,
   "metadata": {},
   "outputs": [
    {
     "data": {
      "text/plain": [
       "('Uncommon strings are ',\n",
       " ['have', 'enrolled', 'for', 'am', 'the', 'student', 'of'])"
      ]
     },
     "execution_count": 26,
     "metadata": {},
     "output_type": "execute_result"
    }
   ],
   "source": [
    "def uncommon(str1,str2):\n",
    "    out=[]\n",
    "    for i in str1.split():\n",
    "        if i not in str2.split():\n",
    "            out.append(i)\n",
    "    for i in str2.split():\n",
    "        if i not in str1.split():\n",
    "            out.append(i)\n",
    "    \n",
    "    return \"Uncommon strings are \",out\n",
    "uncommon(\"I have enrolled for Ineuron\",\"I am the student of Ineuron\")"
   ]
  },
  {
   "cell_type": "markdown",
   "metadata": {},
   "source": [
    "6. Write a Python to find all duplicate characters in string?"
   ]
  },
  {
   "cell_type": "code",
   "execution_count": 31,
   "metadata": {},
   "outputs": [
    {
     "data": {
      "text/plain": [
       "{'a', 'd'}"
      ]
     },
     "execution_count": 31,
     "metadata": {},
     "output_type": "execute_result"
    }
   ],
   "source": [
    "def str(st):\n",
    "    out=[]\n",
    "    t=[]\n",
    "    for i in st:\n",
    "        if i not in t:\n",
    "            t.append(i)\n",
    "        else:\n",
    "            out.append(i)\n",
    "        \n",
    "    return set(out)\n",
    "str(\"kasadadabaaaaaa\")"
   ]
  },
  {
   "cell_type": "markdown",
   "metadata": {},
   "source": [
    "7. Write a Python Program to check if a string contains any special character?"
   ]
  },
  {
   "cell_type": "code",
   "execution_count": 69,
   "metadata": {},
   "outputs": [
    {
     "name": "stdout",
     "output_type": "stream",
     "text": [
      "string contains special character\n",
      "string does not contains any special character\n"
     ]
    }
   ],
   "source": [
    "def sp_ch_find(s):\n",
    "    sp_ch=['[', '@', '_', '!', '#', '$', '%', '^', '&', '*', '(', ')', '<', '>', '?', '/','\\\\', '|', '}', '{', '~', ':', ']']\n",
    "    for i in s:\n",
    "        if i in sp_ch:\n",
    "            print(\"string contains special character\")\n",
    "            break\n",
    "    else:\n",
    "        print(\"string does not contains any special character\")\n",
    "sp_ch_find(\"Python_Programming\")\n",
    "sp_ch_find(\"Python Programming\")\n"
   ]
  }
 ],
 "metadata": {
  "kernelspec": {
   "display_name": "Python 3",
   "language": "python",
   "name": "python3"
  },
  "language_info": {
   "codemirror_mode": {
    "name": "ipython",
    "version": 3
   },
   "file_extension": ".py",
   "mimetype": "text/x-python",
   "name": "python",
   "nbconvert_exporter": "python",
   "pygments_lexer": "ipython3",
   "version": "3.8.5"
  }
 },
 "nbformat": 4,
 "nbformat_minor": 4
}
