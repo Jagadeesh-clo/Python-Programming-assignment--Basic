{
 "cells": [
  {
   "cell_type": "code",
   "execution_count": 1,
   "id": "8b480508",
   "metadata": {},
   "outputs": [],
   "source": [
    "# Please write a program using generator to print the numbers which can be divisible by 5 and\n",
    "# 7 between 0 and n in comma separated form while n is input by console."
   ]
  },
  {
   "cell_type": "code",
   "execution_count": 27,
   "id": "12a2bd51",
   "metadata": {},
   "outputs": [
    {
     "name": "stdout",
     "output_type": "stream",
     "text": [
      "0,35,70,"
     ]
    }
   ],
   "source": [
    "ls = []\n",
    "def gen(n):\n",
    "    for i in range(n+1):\n",
    "        if i%5==0 and i%7==0:\n",
    "            yield i\n",
    "for j in gen(100):\n",
    "    print(j,end =\",\")\n",
    "\n"
   ]
  },
  {
   "cell_type": "code",
   "execution_count": 28,
   "id": "b46d7950",
   "metadata": {},
   "outputs": [],
   "source": [
    "# Please write a program using generator to print the even numbers between 0 and n in comma\n",
    "# separated form while n is input by console."
   ]
  },
  {
   "cell_type": "code",
   "execution_count": 30,
   "id": "492de6eb",
   "metadata": {},
   "outputs": [
    {
     "name": "stdout",
     "output_type": "stream",
     "text": [
      "0,2,4,6,8,10,"
     ]
    }
   ],
   "source": [
    "def even(n):\n",
    "    for i in range(n+1):\n",
    "        if i % 2 == 0:\n",
    "            yield i\n",
    "for j in even(10):\n",
    "    print(j, end =\",\")"
   ]
  },
  {
   "cell_type": "code",
   "execution_count": 33,
   "id": "e50001c3",
   "metadata": {},
   "outputs": [
    {
     "data": {
      "text/plain": [
       "' The Fibonacci Sequence is computed based on the following formula:\\nf(n)=0 if n=0\\nf(n)=1 if n=1\\nf(n)=f(n-1)+f(n-2) if n&gt;1\\nPlease write a program using list comprehension to print the Fibonacci Sequence in comma\\nseparated form with a given n input by console.\\nExample:\\nIf the following n is given as input to the program:\\n7\\n\\nThen, the output of the program should be:\\n0,1,1,2,3,5,8,13\\n'"
      ]
     },
     "execution_count": 33,
     "metadata": {},
     "output_type": "execute_result"
    }
   ],
   "source": [
    "\"\"\" The Fibonacci Sequence is computed based on the following formula:\n",
    "f(n)=0 if n=0\n",
    "f(n)=1 if n=1\n",
    "f(n)=f(n-1)+f(n-2) if>1\n",
    "Please write a program using list comprehension to print the Fibonacci Sequence in comma\n",
    "separated form with a given n input by console.\n",
    "Example:\n",
    "If the following n is given as input to the program:\n",
    "7\n",
    "\n",
    "Then, the output of the program should be:\n",
    "0,1,1,2,3,5,8,13\n",
    "\"\"\""
   ]
  },
  {
   "cell_type": "code",
   "execution_count": 101,
   "id": "96bda240",
   "metadata": {},
   "outputs": [
    {
     "data": {
      "text/plain": [
       "[1, 1, 2, 3, 5, 8, 13]"
      ]
     },
     "execution_count": 101,
     "metadata": {},
     "output_type": "execute_result"
    }
   ],
   "source": [
    "\n",
    "P = (1 +5**0.5) / 2\n",
    "p = (1 - 5**0.5) / 2\n",
    "\n",
    "n=7\n",
    " \n",
    "fib = [int((Phi**n - phi**n) / 5**0.5) for n in range(1, n+1)]\n",
    "fib"
   ]
  },
  {
   "cell_type": "code",
   "execution_count": 103,
   "id": "3ce51130",
   "metadata": {},
   "outputs": [],
   "source": [
    "#Email Filtering"
   ]
  },
  {
   "cell_type": "code",
   "execution_count": 132,
   "id": "e600e55d",
   "metadata": {},
   "outputs": [
    {
     "name": "stdout",
     "output_type": "stream",
     "text": [
      "enter the email address john@gmail.com\n",
      "john\n"
     ]
    }
   ],
   "source": [
    "Email = input(\"enter the email address \")\n",
    "res= Email.split(\"@\")\n",
    "print(res[0])"
   ]
  },
  {
   "cell_type": "code",
   "execution_count": 133,
   "id": "43f31a22",
   "metadata": {},
   "outputs": [],
   "source": [
    "# Define a class named Shape and its subclass Square. The Square class has an init function\n",
    "#which takes a length as argument. Both classes have a area function which can print the area\n",
    "# of the shape where Shape&#39;s area is 0 by default."
   ]
  },
  {
   "cell_type": "code",
   "execution_count": 178,
   "id": "0b55c031",
   "metadata": {},
   "outputs": [],
   "source": [
    "class shape():\n",
    "    def __init__(self,length):\n",
    "        self.n1 = length\n",
    "\n",
    "        def area(length):\n",
    "            print(self.n1)\n",
    "\n",
    "class square(shape):\n",
    "    def __init__(self,length):\n",
    "        super().__init__(length)\n",
    "        self.n2 = length\n",
    "        def area(self):\n",
    "            print(self.n1 * self.n2)\n"
   ]
  },
  {
   "cell_type": "code",
   "execution_count": 198,
   "id": "e584a981",
   "metadata": {},
   "outputs": [],
   "source": [
    "class shape:\n",
    "    def __init__(self, length):\n",
    "        self.n1 = length\n",
    "    def area(self):\n",
    "        area = self.n1 *2\n",
    "        print(\"Area of a shape \", area)\n",
    "class Square(shape):\n",
    "    def area(self):\n",
    "        area = self.n1 * self.n1\n",
    "        print(\"Area of a shape \", area)\n"
   ]
  },
  {
   "cell_type": "code",
   "execution_count": 200,
   "id": "89ae5948",
   "metadata": {},
   "outputs": [
    {
     "name": "stdout",
     "output_type": "stream",
     "text": [
      "Area of a shape  16\n"
     ]
    }
   ],
   "source": [
    "s=Square(4)\n",
    "s.area()"
   ]
  },
  {
   "cell_type": "code",
   "execution_count": null,
   "id": "7de22f3e",
   "metadata": {},
   "outputs": [],
   "source": []
  }
 ],
 "metadata": {
  "kernelspec": {
   "display_name": "Python 3",
   "language": "python",
   "name": "python3"
  },
  "language_info": {
   "codemirror_mode": {
    "name": "ipython",
    "version": 3
   },
   "file_extension": ".py",
   "mimetype": "text/x-python",
   "name": "python",
   "nbconvert_exporter": "python",
   "pygments_lexer": "ipython3",
   "version": "3.8.8"
  }
 },
 "nbformat": 4,
 "nbformat_minor": 5
}
