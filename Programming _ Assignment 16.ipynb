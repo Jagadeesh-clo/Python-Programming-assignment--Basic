{
 "cells": [
  {
   "cell_type": "code",
   "execution_count": 3,
   "id": "aee6086f",
   "metadata": {},
   "outputs": [],
   "source": [
    "# stuttering"
   ]
  },
  {
   "cell_type": "code",
   "execution_count": 8,
   "id": "8ef85c48",
   "metadata": {},
   "outputs": [
    {
     "data": {
      "text/plain": [
       "'Fu...ll...Full Stack Datascience'"
      ]
     },
     "execution_count": 8,
     "metadata": {},
     "output_type": "execute_result"
    }
   ],
   "source": [
    "def stutter(str):\n",
    "    return ((str[:2] + \"...\" + str[2:4] + \"...\" +str))\n",
    "stutter(\"Full Stack Datascience\")"
   ]
  },
  {
   "cell_type": "code",
   "execution_count": null,
   "id": "b9b246b7",
   "metadata": {},
   "outputs": [],
   "source": [
    "Degree to Radian"
   ]
  },
  {
   "cell_type": "code",
   "execution_count": 68,
   "id": "e8e5cf0c",
   "metadata": {},
   "outputs": [],
   "source": [
    "def rad_deg():\n",
    "    Radian = float(input(\"Enter the Radian Value \"))\n",
    "    pie =  round(22/7,3)\n",
    "    #pie = 22/7\n",
    "    \n",
    "    Degrees = round(Radian *(180/pie),3)\n",
    "    return (\"The Degree of Radian \", Radian,\"is \", Degrees  )"
   ]
  },
  {
   "cell_type": "code",
   "execution_count": 69,
   "id": "d1eeec0c",
   "metadata": {},
   "outputs": [
    {
     "name": "stdout",
     "output_type": "stream",
     "text": [
      "Enter the Radian Value 1\n"
     ]
    },
    {
     "data": {
      "text/plain": [
       "('The Degree of Radian ', 1.0, 'is ', 57.27)"
      ]
     },
     "execution_count": 69,
     "metadata": {},
     "output_type": "execute_result"
    }
   ],
   "source": [
    "rad_deg()"
   ]
  },
  {
   "cell_type": "code",
   "execution_count": 84,
   "id": "e56421ad",
   "metadata": {},
   "outputs": [],
   "source": [
    "#Check whether the number is curzon or not"
   ]
  },
  {
   "cell_type": "code",
   "execution_count": 89,
   "id": "d4f525eb",
   "metadata": {},
   "outputs": [
    {
     "name": "stdout",
     "output_type": "stream",
     "text": [
      " Enter the number you want to check 5\n",
      "33 is a multiple of  11\n"
     ]
    },
    {
     "data": {
      "text/plain": [
       "True"
      ]
     },
     "execution_count": 89,
     "metadata": {},
     "output_type": "execute_result"
    }
   ],
   "source": [
    "def curzon():\n",
    "    N = int(input(\" Enter the number you want to check \"))\n",
    "    s1 = 2**N+1\n",
    "    s2 = 2*N+1\n",
    "    if s1%s2==0:\n",
    "        print(s1 , \"is a multiple of \",s2)\n",
    "        return True\n",
    "    else:\n",
    "        print(s1 , \"is not  multiple of \",s2)\n",
    "\n",
    "        return False\n",
    "curzon()"
   ]
  },
  {
   "cell_type": "code",
   "execution_count": 90,
   "id": "b677815c",
   "metadata": {},
   "outputs": [],
   "source": [
    "# Area of Hexagon:\n"
   ]
  },
  {
   "cell_type": "code",
   "execution_count": 104,
   "id": "5db6cd87",
   "metadata": {},
   "outputs": [
    {
     "name": "stdout",
     "output_type": "stream",
     "text": [
      "Enter the value of Hexagon side 1\n"
     ]
    },
    {
     "data": {
      "text/plain": [
       "('Area of Hexagon is ', 2.6)"
      ]
     },
     "execution_count": 104,
     "metadata": {},
     "output_type": "execute_result"
    }
   ],
   "source": [
    "import numpy as np\n",
    "def Hexagon():\n",
    "    s = float(input(\"Enter the value of Hexagon side \"))\n",
    "    \n",
    "    Area = (3*np.sqrt(3)*s**2)/2\n",
    "    return (\"Area of Hexagon is \",round(Area,2))\n",
    "Hexagon()"
   ]
  },
  {
   "cell_type": "code",
   "execution_count": 122,
   "id": "2d0fbbca",
   "metadata": {},
   "outputs": [],
   "source": [
    "#binary conversion"
   ]
  },
  {
   "cell_type": "code",
   "execution_count": 128,
   "id": "95766531",
   "metadata": {},
   "outputs": [
    {
     "name": "stdout",
     "output_type": "stream",
     "text": [
      "1010\n"
     ]
    }
   ],
   "source": [
    "def bin(n):\n",
    "    bin = \"{0:b}\".format(n)\n",
    "    print(bin)\n",
    "bin(10)"
   ]
  },
  {
   "cell_type": "code",
   "execution_count": null,
   "id": "514fe355",
   "metadata": {},
   "outputs": [],
   "source": []
  },
  {
   "cell_type": "code",
   "execution_count": null,
   "id": "3c996f3d",
   "metadata": {},
   "outputs": [],
   "source": []
  }
 ],
 "metadata": {
  "kernelspec": {
   "display_name": "Python 3",
   "language": "python",
   "name": "python3"
  },
  "language_info": {
   "codemirror_mode": {
    "name": "ipython",
    "version": 3
   },
   "file_extension": ".py",
   "mimetype": "text/x-python",
   "name": "python",
   "nbconvert_exporter": "python",
   "pygments_lexer": "ipython3",
   "version": "3.8.8"
  }
 },
 "nbformat": 4,
 "nbformat_minor": 5
}
