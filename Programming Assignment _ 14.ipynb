{
 "cells": [
  {
   "cell_type": "code",
   "execution_count": 1,
   "id": "88b38f7b",
   "metadata": {},
   "outputs": [],
   "source": [
    "#Define a class with a generator which can iterate the numbers, which are divisible by 7, between a given range 0 and n."
   ]
  },
  {
   "cell_type": "code",
   "execution_count": 14,
   "id": "d9b33869",
   "metadata": {},
   "outputs": [
    {
     "name": "stdout",
     "output_type": "stream",
     "text": [
      "0\n",
      "0.0\n",
      "1\n",
      "0.14285714285714285\n",
      "2\n",
      "0.2857142857142857\n",
      "3\n",
      "0.42857142857142855\n",
      "4\n",
      "0.5714285714285714\n",
      "5\n",
      "0.7142857142857143\n",
      "6\n",
      "0.8571428571428571\n",
      "7\n",
      "1.0\n",
      "8\n",
      "1.1428571428571428\n",
      "9\n",
      "1.2857142857142858\n"
     ]
    }
   ],
   "source": [
    "def gen(n):\n",
    "    for i in range(0,n):\n",
    "        print(i)\n",
    "        yield i/7\n",
    "        \n",
    "gen(10)\n",
    "\n",
    "for j in gen(10):\n",
    "    print(j)"
   ]
  },
  {
   "cell_type": "code",
   "execution_count": 17,
   "id": "61a2c9cb",
   "metadata": {},
   "outputs": [],
   "source": [
    "#\"\"\"Write a program to compute the frequency of the words from the input. \n",
    "#The output should output after sorting the key alphanumerically. \n",
    "#Suppose the following input is supplied to the program: \n",
    "#New to Python or choosing between Python 2 and Python 3? Read Python 2 or Python 3. \n",
    "\n",
    "\n"
   ]
  },
  {
   "cell_type": "code",
   "execution_count": 62,
   "id": "52a0a962",
   "metadata": {},
   "outputs": [
    {
     "name": "stdout",
     "output_type": "stream",
     "text": [
      "between : 1\n",
      "Python : 5\n",
      "2 : 2\n",
      "choosing : 1\n",
      "to : 1\n",
      "and : 1\n",
      "or : 2\n",
      "Read : 1\n",
      "3 : 1\n",
      "New : 1\n",
      "3? : 1\n"
     ]
    }
   ],
   "source": [
    "\n",
    "def freq(str):\n",
    "    str_list = str.split()\n",
    "    #for i in str_list:\n",
    "     #   List.append(i)\n",
    "    #print(List)    \n",
    "    #List.\n",
    "    t = set(str_list)\n",
    "    \n",
    "    \n",
    "      \n",
    "    for words in t :\n",
    "        print ( words ,\":\", str_list.count(words))\n",
    "        \n",
    "        List.append(words)\n",
    "        \n",
    "if __name__ == \"__main__\":\n",
    "      \n",
    "        \n",
    "    str ='New to Python or choosing between Python 2 and Python 3? Read Python 2 or Python 3'\n",
    "      \n",
    "    freq(str)"
   ]
  },
  {
   "cell_type": "code",
   "execution_count": 193,
   "id": "ad5bcd79",
   "metadata": {},
   "outputs": [],
   "source": [
    "#Define a class Person and its two child classes: Male and Female. All classes have a\n",
    "#method &quot;getGender&quot; which can print \"Male\"; for Male class and \"Female\"; for Female class."
   ]
  },
  {
   "cell_type": "code",
   "execution_count": 194,
   "id": "d157f293",
   "metadata": {},
   "outputs": [
    {
     "name": "stdout",
     "output_type": "stream",
     "text": [
      "He is Male\n",
      "She is Female\n",
      "He is Male\n"
     ]
    }
   ],
   "source": [
    "class person:\n",
    "    def __init__(self,str):\n",
    "        self.str = str\n",
    "    def Getgender(self):\n",
    "        if self.str ==\"Male\":\n",
    "            print(\"He is Male\")\n",
    "        else:\n",
    "            print(\"She is Female\")\n",
    "\n",
    "\n",
    "class child1(person):\n",
    "    def Getgender(self):\n",
    "        if self.str ==\"Male\":\n",
    "            print(\"He is Male\")\n",
    "        else:\n",
    "            print(\"She is Female\")\n",
    "\n",
    "            \n",
    "            p1 = person(\"Male\")\n",
    "class child2(person):\n",
    "    def Getgender(self):\n",
    "        if self.str ==\"Male\":\n",
    "            print(\"He is Male\")\n",
    "        else:\n",
    "            print(\"She is Female\")\n",
    "p1 = person(\"Male\")\n",
    "c1 = child1(\"FeMale\")\n",
    "c2=child2(\"Male\")\n",
    "p1.Getgender()\n",
    "c1.Getgender()\n",
    "c2.Getgender()\n"
   ]
  },
  {
   "cell_type": "code",
   "execution_count": 102,
   "id": "ea703845",
   "metadata": {},
   "outputs": [],
   "source": [
    "# Please write a program to generate all sentences where subject is in [&quot;I&quot;, &quot;You&quot;] and\n",
    "# verb is in [&quot;Play&quot;, &quot;Love&quot;] and the object is in [&quot;Hockey&quot;,&quot;Football&quot;]."
   ]
  },
  {
   "cell_type": "code",
   "execution_count": 195,
   "id": "c3cff4ec",
   "metadata": {},
   "outputs": [],
   "source": [
    "sub_lst = [\"I\",\"You\"]\n",
    "verb_lst = [\"Play\",\"Love\"]\n",
    "def gen():\n",
    "    subject = input(\"Enter the Subject :\")\n",
    "    Verb = input(\"Enter the Verb :\")\n",
    "    sub_str = subject.split()\n",
    "    Verb_str = Verb.split()\n",
    "    #print(sub_str)\n",
    "    for i in sub_str:\n",
    "        for j in Verb_str:\n",
    "            \n",
    "            if i in sub_lst and j in verb_lst:\n",
    "                return True \n",
    "            else:\n",
    "                return False\n",
    "                                "
   ]
  },
  {
   "cell_type": "code",
   "execution_count": 196,
   "id": "0a80687a",
   "metadata": {},
   "outputs": [
    {
     "name": "stdout",
     "output_type": "stream",
     "text": [
      "Enter the Subject :I love\n",
      "Enter the Verb :I PLay\n"
     ]
    },
    {
     "data": {
      "text/plain": [
       "False"
      ]
     },
     "execution_count": 196,
     "metadata": {},
     "output_type": "execute_result"
    }
   ],
   "source": [
    "gen()"
   ]
  },
  {
   "cell_type": "code",
   "execution_count": 138,
   "id": "ee2a31e8",
   "metadata": {},
   "outputs": [],
   "source": [
    "# Please write a program to compress and decompress the string ;hello world!hello world!hello world!hello world"
   ]
  },
  {
   "cell_type": "code",
   "execution_count": 143,
   "id": "3f67195f",
   "metadata": {},
   "outputs": [
    {
     "name": "stdout",
     "output_type": "stream",
     "text": [
      "\n",
      "size of original text 150\n",
      "\n",
      "size of compressed text 118\n",
      "\n",
      "size of decompressed text 150\n"
     ]
    }
   ],
   "source": [
    "import sys\n",
    "import zlib\n",
    "\n",
    "\n",
    "text=b\"\"\" Please write a program to compress and decompress the string &quot;hello world!hello\n",
    "world!hello world!hello world!.\"\"\"\n",
    "\n",
    "text_size=sys.getsizeof(text)\n",
    "\n",
    "print(\"\\nsize of original text\",text_size)\n",
    "\n",
    "compressed = zlib.compress(text)\n",
    "\n",
    "csize=sys.getsizeof(compressed)\n",
    "\n",
    "print(\"\\nsize of compressed text\",csize)\n",
    "\n",
    "decompressed=zlib.decompress(compressed)\n",
    "\n",
    "dsize=sys.getsizeof(decompressed)\n",
    "\n",
    "print(\"\\nsize of decompressed text\",dsize)"
   ]
  },
  {
   "cell_type": "code",
   "execution_count": 144,
   "id": "38cf1107",
   "metadata": {},
   "outputs": [],
   "source": [
    "#Please write a binary search function which searches an item in a sorted list. The \n",
    "# function should return the index of element to be searched in the list."
   ]
  },
  {
   "cell_type": "code",
   "execution_count": 191,
   "id": "993810da",
   "metadata": {},
   "outputs": [],
   "source": [
    "def search(str):\n",
    "    count = 0\n",
    "\n",
    "    str_split = str.split()\n",
    "    print(\"Before splitting\", str)\n",
    "    print(\"After splitting\",str_split)\n",
    "    item = input(\"Enter the item to be searched \")\n",
    "    for i in range(len(str_split)):\n",
    "        if item == str_split[i]:\n",
    "            print(item , \" index is\" ,count)\n",
    "            break\n",
    "        count+=1\n"
   ]
  },
  {
   "cell_type": "code",
   "execution_count": 192,
   "id": "abdab92e",
   "metadata": {},
   "outputs": [
    {
     "name": "stdout",
     "output_type": "stream",
     "text": [
      "Before splitting Welcome to Ineuron\n",
      "After splitting ['Welcome', 'to', 'Ineuron']\n",
      "Enter the item to be searched to\n",
      "to  index is 1\n"
     ]
    }
   ],
   "source": [
    "search(\"Welcome to Ineuron\")"
   ]
  },
  {
   "cell_type": "code",
   "execution_count": 159,
   "id": "ebd91b90",
   "metadata": {},
   "outputs": [],
   "source": []
  },
  {
   "cell_type": "code",
   "execution_count": null,
   "id": "9010bfe9",
   "metadata": {},
   "outputs": [],
   "source": []
  },
  {
   "cell_type": "code",
   "execution_count": null,
   "id": "a8311d34",
   "metadata": {},
   "outputs": [],
   "source": []
  }
 ],
 "metadata": {
  "kernelspec": {
   "display_name": "Python 3",
   "language": "python",
   "name": "python3"
  },
  "language_info": {
   "codemirror_mode": {
    "name": "ipython",
    "version": 3
   },
   "file_extension": ".py",
   "mimetype": "text/x-python",
   "name": "python",
   "nbconvert_exporter": "python",
   "pygments_lexer": "ipython3",
   "version": "3.8.8"
  }
 },
 "nbformat": 4,
 "nbformat_minor": 5
}
