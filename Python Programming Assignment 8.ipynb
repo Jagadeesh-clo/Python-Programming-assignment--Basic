{
 "cells": [
  {
   "cell_type": "markdown",
   "metadata": {},
   "source": [
    "# 1. Write a Python Program to Add Two Matrices?"
   ]
  },
  {
   "cell_type": "code",
   "execution_count": 4,
   "metadata": {},
   "outputs": [
    {
     "name": "stdout",
     "output_type": "stream",
     "text": [
      "[1, 4, 6]\n",
      "[3, 5, 12]\n",
      "[4, 12, 16]\n"
     ]
    }
   ],
   "source": [
    "X = [[1,3,5],  \n",
    "       [0,4,7],  \n",
    "       [3,5,8]]  \n",
    "  \n",
    "Y = [[0,1,1],  \n",
    "       [3,1,5],  \n",
    "       [1,7,8]]  \n",
    "  \n",
    "Z = [[0,0,0],  \n",
    "    [0,0,0],  \n",
    "    [0,0,0]]  \n",
    "for i in range(len(X)):  \n",
    "    for j in range(len(X[0])):  \n",
    "        Z[i][j] = X[i][j] + Y[i][j]  \n",
    "for r in Z:  \n",
    "    print(r)"
   ]
  },
  {
   "cell_type": "markdown",
   "metadata": {},
   "source": [
    "# 2. Write a Python Program to Multiply Two Matrices?"
   ]
  },
  {
   "cell_type": "code",
   "execution_count": 5,
   "metadata": {},
   "outputs": [
    {
     "name": "stdout",
     "output_type": "stream",
     "text": [
      "[0, 3, 5]\n",
      "[0, 4, 35]\n",
      "[3, 35, 64]\n"
     ]
    }
   ],
   "source": [
    "X = [[1,3,5],  \n",
    "       [0,4,7],  \n",
    "       [3,5,8]]  \n",
    "  \n",
    "Y = [[0,1,1],  \n",
    "       [3,1,5],  \n",
    "       [1,7,8]]  \n",
    "  \n",
    "Z = [[0,0,0],  \n",
    "    [0,0,0],  \n",
    "    [0,0,0]]  \n",
    "for i in range(len(X)):  \n",
    "    for j in range(len(X[0])):  \n",
    "        Z[i][j] = X[i][j] * Y[i][j]  \n",
    "for r in Z:  \n",
    "    print(r)"
   ]
  },
  {
   "cell_type": "markdown",
   "metadata": {},
   "source": [
    "# 3.Write a Python Program to Transpose a Matrix?"
   ]
  },
  {
   "cell_type": "code",
   "execution_count": 10,
   "metadata": {},
   "outputs": [
    {
     "name": "stdout",
     "output_type": "stream",
     "text": [
      "[1, 7, 7]\n",
      "[3, 5, 8]\n",
      "[4, 7, 0]\n"
     ]
    }
   ],
   "source": [
    "X = [[1,3,4],  \n",
    "      [7,5,7],  \n",
    "     [7,8,0]]  \n",
    "  \n",
    "Y = [[0,0,0],  \n",
    "    [0,0,0],\n",
    "    [0,0,0]]  \n",
    "  \n",
    "# iterate through rows  \n",
    "for i in range(len(X)):  \n",
    "    for j in range(len(X[0])):  \n",
    "        Y[j][i] = X[i][j]  \n",
    "for r in Y:  \n",
    "    print(r)  \n"
   ]
  },
  {
   "cell_type": "markdown",
   "metadata": {},
   "source": [
    "# 4. Write a Python Program to Sort Words in Alphabetic Order?"
   ]
  },
  {
   "cell_type": "code",
   "execution_count": 15,
   "metadata": {},
   "outputs": [
    {
     "name": "stdout",
     "output_type": "stream",
     "text": [
      "Enter your string  I have enrolled for full stack data science course in Ineuron\n",
      "['I', 'Ineuron', 'course', 'data', 'enrolled', 'for', 'full', 'have', 'in', 'science', 'stack']\n"
     ]
    }
   ],
   "source": [
    "string = input(\"Enter your string  \")\n",
    "l=[]\n",
    "str =string.split()\n",
    "\n",
    "str.sort()\n",
    "\n",
    "for i in str:\n",
    "    l.append(i)\n",
    "print(l)\n",
    "        "
   ]
  },
  {
   "cell_type": "code",
   "execution_count": 49,
   "metadata": {},
   "outputs": [
    {
     "name": "stdout",
     "output_type": "stream",
     "text": [
      "Enter your string Hi My ,name is #Sri Ram #from Bangalore, India..\n",
      "Hi My name is Sri Ram from Bangalore India\n"
     ]
    }
   ],
   "source": [
    "symbol = '''''!{};:/?@#$'\"\\,<>()-[].%^&*_~'''\n",
    "#symbols = symbol.split()\n",
    "#print(symbols)\n",
    "\n",
    "string = input(\"Enter your string \")\n",
    "#string = string.split()\n",
    "\n",
    "result = \"\"\n",
    "\n",
    "for i in string:\n",
    "    #print(i)\n",
    "    if i not in symbol:\n",
    "        result = result + i\n",
    "    \n",
    "    #for j in symbols:\n",
    "        #print(j)\n",
    "     #   if i != j:\n",
    "      #      print (i)\n",
    "             \n",
    "print(result)"
   ]
  },
  {
   "cell_type": "code",
   "execution_count": null,
   "metadata": {},
   "outputs": [],
   "source": []
  },
  {
   "cell_type": "code",
   "execution_count": null,
   "metadata": {},
   "outputs": [],
   "source": []
  }
 ],
 "metadata": {
  "kernelspec": {
   "display_name": "Python 3",
   "language": "python",
   "name": "python3"
  },
  "language_info": {
   "codemirror_mode": {
    "name": "ipython",
    "version": 3
   },
   "file_extension": ".py",
   "mimetype": "text/x-python",
   "name": "python",
   "nbconvert_exporter": "python",
   "pygments_lexer": "ipython3",
   "version": "3.8.5"
  }
 },
 "nbformat": 4,
 "nbformat_minor": 4
}
