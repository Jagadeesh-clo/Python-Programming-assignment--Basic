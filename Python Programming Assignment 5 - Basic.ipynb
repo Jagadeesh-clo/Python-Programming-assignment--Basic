{
 "cells": [
  {
   "cell_type": "markdown",
   "metadata": {},
   "source": [
    "# 1 LCM OF TWO Numbers"
   ]
  },
  {
   "cell_type": "code",
   "execution_count": 176,
   "metadata": {},
   "outputs": [
    {
     "name": "stdout",
     "output_type": "stream",
     "text": [
      " Enter the Value1 2\n",
      "  Enter the Value2 4\n",
      "4\n"
     ]
    }
   ],
   "source": [
    "\n",
    "num1 = int(input(\" Enter the Value1 \"))\n",
    "num2 = int(input(\"  Enter the Value2 \"))\n",
    "a = num1\n",
    "b = num2\n",
    "while(num2 != 0):   \n",
    "    temp = num2\n",
    "    num2 = num1 % num2 \n",
    "    num1 = temp\n",
    "gcd = num1  \n",
    "lcm = (a * b) // gcd   \n",
    "print(lcm)"
   ]
  },
  {
   "cell_type": "markdown",
   "metadata": {},
   "source": [
    "# 2 HCF Of Two numbers"
   ]
  },
  {
   "cell_type": "code",
   "execution_count": 114,
   "metadata": {},
   "outputs": [
    {
     "name": "stdout",
     "output_type": "stream",
     "text": [
      "enter the ingteger 1 4\n",
      "enter the ingteger 2 3\n",
      " The HCF is  1\n"
     ]
    }
   ],
   "source": [
    "\n",
    "V1 = int(input (\"enter the ingteger 1 \"))\n",
    "V2 = int(input (\"enter the ingteger 2 \"))\n",
    "\n",
    "if V1>V2:\n",
    "    Small = V2\n",
    "else:\n",
    "    small = V1\n",
    "    \n",
    "for i in range(1,small+1):\n",
    "    if V1%i==0 and V2%i==0:\n",
    "        HCF=i\n",
    "        \n",
    "print(\" The HCF is \",HCF)\n",
    "        "
   ]
  },
  {
   "cell_type": "markdown",
   "metadata": {},
   "source": [
    "# 3 Decimal to Binary, Octal and hexadecimal"
   ]
  },
  {
   "cell_type": "code",
   "execution_count": 149,
   "metadata": {},
   "outputs": [
    {
     "name": "stdout",
     "output_type": "stream",
     "text": [
      " Enter the Number42\n",
      " The octal number is  0o52\n",
      " The Hexadecimal number is  0x2a\n",
      "The binary representation is 101010 \n"
     ]
    }
   ],
   "source": [
    "num=int(input(\" Enter the Number\"))\n",
    "#Decimal to Octal\n",
    "print(\" The octal number is \",oct(num))\n",
    "\n",
    "#Decimal to Hexadecimal\n",
    "print(\" The Hexadecimal number is \",hex(num))\n",
    "#Decimal to Binary\n",
    "result=\" \"\n",
    "while num != 0:\n",
    "    \n",
    "    remainder = num % 2  \n",
    "    num = num // 2\n",
    "    result = str(remainder)+result\n",
    "print(\"The binary representation is\", result)\n",
    "\n",
    "\n"
   ]
  },
  {
   "cell_type": "markdown",
   "metadata": {},
   "source": [
    "# 4 ASCII Value of a character\n"
   ]
  },
  {
   "cell_type": "code",
   "execution_count": 171,
   "metadata": {},
   "outputs": [
    {
     "name": "stdout",
     "output_type": "stream",
     "text": [
      "Enter the Character  I\n",
      " The ASCII value of I is  73\n",
      "\n"
     ]
    }
   ],
   "source": [
    "C= input(\"Enter the Character  \")\n",
    "if len(C)>1:\n",
    "    print(\" Please enter only one character\")\n",
    "else:\n",
    "    print(\" The ASCII value of {} is \".format(C),ord(C))\n",
    "print()"
   ]
  },
  {
   "cell_type": "markdown",
   "metadata": {},
   "source": [
    "# 5 Simple Calculator program"
   ]
  },
  {
   "cell_type": "code",
   "execution_count": 175,
   "metadata": {},
   "outputs": [
    {
     "name": "stdout",
     "output_type": "stream",
     "text": [
      "The addition of 4 and 5 is  9\n",
      "The addition of 4 and 5 is  -1\n",
      "The addition of 4 and 5 is  20\n",
      "The addition of 4 and 5 is  0.8\n"
     ]
    }
   ],
   "source": [
    "def add(a,b):\n",
    "    c=a+b\n",
    "    print(\"The addition of {} and {} is \".format(a,b),c)\n",
    "def sub(a,b):\n",
    "    c=a-b\n",
    "    print(\"The addition of {} and {} is \".format(a,b),c)\n",
    "def multiply(a,b):\n",
    "    c=a*b\n",
    "    print(\"The addition of {} and {} is \".format(a,b),c)\n",
    "def division(a,b):\n",
    "    c=a/b\n",
    "    print(\"The addition of {} and {} is \".format(a,b),c)\n",
    "add(4,5) \n",
    "sub(4,5)\n",
    "multiply(4,5)\n",
    "division(4,5)"
   ]
  },
  {
   "cell_type": "code",
   "execution_count": null,
   "metadata": {},
   "outputs": [],
   "source": []
  }
 ],
 "metadata": {
  "celltoolbar": "Raw Cell Format",
  "kernelspec": {
   "display_name": "Python 3",
   "language": "python",
   "name": "python3"
  },
  "language_info": {
   "codemirror_mode": {
    "name": "ipython",
    "version": 3
   },
   "file_extension": ".py",
   "mimetype": "text/x-python",
   "name": "python",
   "nbconvert_exporter": "python",
   "pygments_lexer": "ipython3",
   "version": "3.8.5"
  }
 },
 "nbformat": 4,
 "nbformat_minor": 4
}
